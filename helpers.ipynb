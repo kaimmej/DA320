{
 "cells": [
  {
   "cell_type": "markdown",
   "metadata": {},
   "source": [
    "\n",
    "# HELPERS.py\n",
    "Helpers.py is a module file that is meant to be imported into other programs\n"
   ]
  },
  {
   "cell_type": "code",
   "execution_count": 16,
   "metadata": {},
   "outputs": [],
   "source": [
    "#imports\n",
    "import json\n",
    "import pyodbc"
   ]
  },
  {
   "cell_type": "markdown",
   "metadata": {},
   "source": [
    " ### Python movie object"
   ]
  },
  {
   "cell_type": "code",
   "execution_count": 17,
   "metadata": {},
   "outputs": [],
   "source": [
    "#MOVIE OBJECT DEFINITION \n",
    "class movie():\n",
    "    def __init__(self, title, movieNumber, releaseDate, metacriticScore, image, movieSummary):\n",
    "        self.title = title\n",
    "        self.movieNumber = movieNumber\n",
    "        self.releaseDate = releaseDate\n",
    "        self.metacriticScore = metacriticScore\n",
    "        self.image= image\n",
    "        self.movieSummary = movieSummary\n",
    "    def toString(self):\n",
    "        print(f\"{self.title}  Movie#{self.movieNumber}\")\n",
    "        print(f\"{self.title}  Released: {self.releaseDate}\")\n",
    "        print(f\"{self.title}  Metacritic Score: {self.metacriticScore}\")\n",
    "        print(f\"{self.title}  Image: {self.image}\")\n",
    "        print(f\"{self.title}  Summary: \\n\\t{self.movieSummary}\")\n",
    "        print(\"---\")\n",
    "    def parameterize(self):\n",
    "        return (self.title, self.movieSummary, self.releaseDate, self.metacriticScore, self.image)\n",
    "    def uploadToSQLServer(self, cursor):\n",
    "        cursor.execute(SQLquery,self.parameterize())"
   ]
  },
  {
   "cell_type": "code",
   "execution_count": 18,
   "metadata": {},
   "outputs": [],
   "source": [
    "# Does it work?\n",
    "def test():\n",
    "    print(\"IT WORKS!!!\")"
   ]
  },
  {
   "cell_type": "markdown",
   "metadata": {},
   "source": [
    "### Connect to SQL Server\n",
    "Paramaters: {credentialLocation} -- location of a json file containing required passwords  \n",
    "Returns: { } -- pyodbc object connection string to SQL Server  "
   ]
  },
  {
   "cell_type": "code",
   "execution_count": 19,
   "metadata": {},
   "outputs": [],
   "source": [
    "def connectToSQLServer(credentialLocation):\n",
    "    with open(credentialLocation, 'r') as myFile:\n",
    "        data = myFile.read() #read file\n",
    "        credentialDict = json.loads(data) #parse json file into a python dictionary\n",
    "        userName = credentialDict['userName']\n",
    "        password = credentialDict['password']\n",
    "    \n",
    "    # Create the pyodbc bridge (Connection String) to our SQL database\n",
    "    connectionString = (\n",
    "        \"Driver={SQL Server};\"\n",
    "        \"Server=LAPTOP-V05JMA9V;\"\n",
    "        \"Database=MoviesDB;\"\n",
    "        \"Trusted_Connection=yes;\"\n",
    "        \"UID=\" + userName + \";\"\n",
    "        \"PWD=\" + password + \";\"\n",
    "        )\n",
    "    \n",
    "    #returns the created connection string     \n",
    "    return(pyodbc.connect(connectionString))"
   ]
  },
  {
   "cell_type": "code",
   "execution_count": 20,
   "metadata": {},
   "outputs": [],
   "source": [
    "#SQL queries used in this program\n",
    "sqlQueryMOVIES=\"SELECT * FROM tmdb_5000_movies\"\n",
    "sqlQueryCREDITS=\"SELECT * FROM tmdb_5000_credits\"\n",
    "sqlQuerySUPERHERO=\"SELECT * FROM rawmoviedata\"\n",
    "\n",
    "sqlQueryMARVELvDC =\"\"\"SELECT Title, ReleaseYear, GrossSales,\n",
    "CASE \n",
    "    WHEN ( \n",
    "        Company1 LIKE '%Marvel%' OR \n",
    "        Company2 LIKE '%Marvel%' OR\n",
    "        Company3 LIKE '%Marvel%' OR\n",
    "        Company4 LIKE '%Marvel%' OR\n",
    "        Company5 LIKE '%Marvel%') THEN 'Marvel'\n",
    "    WHEN (\n",
    "        Company1 LIKE '%DC Comics%' OR Company1 LIKE '%DC Entertainment%' OR \n",
    "        Company2 LIKE '%DC Comics%' OR Company2 LIKE '%DC Entertainment%' OR \n",
    "        Company3 LIKE '%DC Comics%' OR Company3 LIKE '%DC Entertainment%' OR \n",
    "        Company4 LIKE '%DC Comics%' OR Company4 LIKE '%DC Entertainment%' OR \n",
    "        Company5 LIKE '%DC Comics%' OR Company5 LIKE '%DC Entertainment%')\n",
    "        THEN 'DC'\n",
    "    ELSE NULL\n",
    "END AS Studio\n",
    "FROM [dbo].[rawmoviedata];\n",
    "\"\"\"\n",
    "\n",
    "#Commented out becuause error was being thrown. \n",
    "#Unclear source of error.\n",
    "# sqlQueryMARVELvDCvOTHER =\"\"\"SELECT Title, ReleaseYear, GrossSales,\n",
    "# CASE \n",
    "#     WHEN ( \n",
    "#         Company1 LIKE '%Marvel%' OR \n",
    "#         Company2 LIKE '%Marvel%' OR\n",
    "#         Company3 LIKE '%Marvel%' OR\n",
    "#         Company4 LIKE '%Marvel%' OR\n",
    "#         Company5 LIKE '%Marvel%') THEN 'Marvel'\n",
    "#     WHEN (\n",
    "#         Company1 LIKE '%DC Comics%' OR Company1 LIKE '%DC Entertainment%' OR \n",
    "#         Company2 LIKE '%DC Comics%' OR Company2 LIKE '%DC Entertainment%' OR \n",
    "#         Company3 LIKE '%DC Comics%' OR Company3 LIKE '%DC Entertainment%' OR \n",
    "#         Company4 LIKE '%DC Comics%' OR Company4 LIKE '%DC Entertainment%' OR \n",
    "#         Company5 LIKE '%DC Comics%' OR Company5 LIKE '%DC Entertainment%')\n",
    "#         THEN 'DC'\n",
    "#     ELSE 'OTHER'\n",
    "# END AS Studio\n",
    "# FROM [dbo].[rawmoviedata];\n",
    "\"\"\""
   ]
  }
 ],
 "metadata": {
  "interpreter": {
   "hash": "831e9d60628f49ef695c1224b896fa86c6f72dc359ca6b6e6521097980c4e285"
  },
  "kernelspec": {
   "display_name": "Python 3.10.1 64-bit",
   "language": "python",
   "name": "python3"
  },
  "language_info": {
   "codemirror_mode": {
    "name": "ipython",
    "version": 3
   },
   "file_extension": ".py",
   "mimetype": "text/x-python",
   "name": "python",
   "nbconvert_exporter": "python",
   "pygments_lexer": "ipython3",
   "version": "3.10.1"
  },
  "orig_nbformat": 4
 },
 "nbformat": 4,
 "nbformat_minor": 2
}
