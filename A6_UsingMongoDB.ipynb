{
 "cells": [
  {
   "cell_type": "markdown",
   "metadata": {},
   "source": [
    "# DA320 Assignment 6: Mongo PetSitting\n",
    "Jon Kaimmer  \n",
    "DA320  \n",
    "Winter2022\n",
    "\n",
    "\n",
    " ### Introduction\n",
    "Query a mongoDB pet database while keeping my username and password safe."
   ]
  },
  {
   "cell_type": "markdown",
   "metadata": {},
   "source": [
    "### Imports and connectToMongo( ) declaration"
   ]
  },
  {
   "cell_type": "code",
   "execution_count": 25,
   "metadata": {},
   "outputs": [],
   "source": [
    "#IMPORTS\n",
    "import json\n",
    "import os\n",
    "import pymongo\n",
    "\n",
    "#METHODS\n",
    "def connectToMongoDB():\n",
    "    with open(credentialLocation, 'r') as myFile:   #open seperate file that stores passwords in JSON array format\n",
    "        data = myFile.read()                        #read file into memory\n",
    "        credentialDict = json.loads(data)           #parse json file into a python dictionary\n",
    "        \n",
    "        return(credentialDict['MONGO']['mDBconnectionString'])\n",
    "\n",
    "#FIELDS\n",
    "credentialLocation = r\"C:\\Users\\\\jonat\\\\OneDrive\\Documents\\GitHub\\\\DA320\\credentials.json\""
   ]
  },
  {
   "cell_type": "markdown",
   "metadata": {},
   "source": [
    "### Read MongoDB connection string from my credentials.json file"
   ]
  },
  {
   "cell_type": "code",
   "execution_count": 27,
   "metadata": {},
   "outputs": [
    {
     "name": "stdout",
     "output_type": "stream",
     "text": [
      "{'host': 'mongocluster-shard-00-01.89mgz.mongodb.net:27017', 'version': '4.4.12', 'process': 'mongod', 'pid': 308853, 'uptime': 1463877.0, 'uptimeMillis': 1463877018, 'uptimeEstimate': 1463877, 'localTime': datetime.datetime(2022, 2, 13, 18, 50, 44, 86000), 'asserts': {'regular': 0, 'warning': 0, 'msg': 0, 'user': 0, 'rollovers': 0}, 'connections': {'current': 15, 'available': 485, 'totalCreated': 193}, 'extra_info': {'note': 'fields vary by platform', 'page_faults': 0}, 'network': {'bytesIn': 89669004, 'bytesOut': 107806579, 'numRequests': 129180}, 'opcounters': {'insert': 110210, 'query': 48, 'update': 0, 'delete': 0, 'getmore': 0, 'command': 18874, 'deprecated': {'query': 0, 'getmore': 0}}, 'opcountersRepl': {'insert': 0, 'query': 0, 'update': 0, 'delete': 0, 'getmore': 0, 'command': 0, 'deprecated': {'query': 0, 'getmore': 0}}, 'repl': {'topologyVersion': {'processId': ObjectId('61f2fcbf7aacfa4e4f74a875'), 'counter': 6}, 'hosts': ['mongocluster-shard-00-00.89mgz.mongodb.net:27017', 'mongocluster-shard-00-01.89mgz.mongodb.net:27017', 'mongocluster-shard-00-02.89mgz.mongodb.net:27017'], 'setName': 'atlas-q74gkh-shard-0', 'setVersion': 6, 'ismaster': True, 'secondary': False, 'primary': 'mongocluster-shard-00-01.89mgz.mongodb.net:27017', 'tags': {'provider': 'AWS', 'nodeType': 'ELECTABLE', 'region': 'US_WEST_2', 'workloadType': 'OPERATIONAL'}, 'me': 'mongocluster-shard-00-01.89mgz.mongodb.net:27017', 'electionId': ObjectId('7fffffff000000000000004d'), 'lastWrite': {'opTime': {'ts': Timestamp(1644778243, 2), 't': 77}, 'lastWriteDate': datetime.datetime(2022, 2, 13, 18, 50, 43), 'majorityOpTime': {'ts': Timestamp(1644778243, 2), 't': 77}, 'majorityWriteDate': datetime.datetime(2022, 2, 13, 18, 50, 43)}, 'rbid': 3}, 'storageEngine': {'name': 'wiredTiger', 'supportsCommittedReads': True, 'oldestRequiredTimestampForCrashRecovery': Timestamp(1644778226, 1), 'supportsPendingDrops': True, 'dropPendingIdents': 0, 'supportsTwoPhaseIndexBuild': True, 'supportsSnapshotReadConcern': True, 'readOnly': False, 'persistent': True, 'backupCursorOpen': False}, 'mem': {'bits': 64, 'resident': 0, 'virtual': 0, 'supported': True, 'mapped': 0, 'mappedWithJournal': 0}, 'metrics': {'aggStageCounters': {'search': 0, 'searchBeta': 0, 'searchMeta': 0}, 'atlas': {'connectionPool': {'totalCreated': 124282}}}, 'ok': 1.0, '$clusterTime': {'clusterTime': Timestamp(1644778243, 2), 'signature': {'hash': b\"\\x9d\\x19X\\x89!\\xe6k#\\xeb\\x1f\\xc4\\xf3A'\\xf9;\\xd6\\xac\\x9e\\x90\", 'keyId': 7010465329583226882}}, 'operationTime': Timestamp(1644778243, 2), 'opLatencies': {'reads': {'latency': 1587013, 'ops': 122}, 'writes': {'latency': 409569618, 'ops': 110210}, 'commands': {'latency': 547246245988, 'ops': 18782}}, 'atlasVersion': {'version': '20220126.0.1.1643764517', 'gitVersion': 'e40326aba32b05aea6b99d7f3797a817ef211f6b'}}\n"
     ]
    }
   ],
   "source": [
    "MONGOconnectionString = connectToMongoDB()\n",
    "client = pymongo.MongoClient(MONGOconnectionString)\n",
    "db = client.admin\n",
    "\n",
    "serverStatusResult=db.command('serverStatus')\n",
    "print(serverStatusResult)"
   ]
  },
  {
   "cell_type": "markdown",
   "metadata": {},
   "source": [
    "### Query MongoDB"
   ]
  },
  {
   "cell_type": "code",
   "execution_count": 28,
   "metadata": {},
   "outputs": [
    {
     "name": "stdout",
     "output_type": "stream",
     "text": [
      "{'_id': Binary(b'Ib\\x8ep&\\xec\\xa5O\\x9f\\x1d\\xb9\\xda\\x9c\\xcf\\x8e\\x97', 3), 'owner_id': Binary(b'\\xdf3\\xc3\\x02\\xdd\\x0czJ\\xb4\\x0bH3\\xddM;P', 3), 'name': 'Samson', 'species': 'Dog', 'breed': 'unspecified', 'gender': 'F', 'birthday': datetime.datetime(2019, 12, 31, 4, 50, 51, 906000)}\n"
     ]
    }
   ],
   "source": [
    "db = client['petsitters']\n",
    "collection = db['pets']\n",
    "\n",
    "query = {'species' : 'Dog'}\n",
    "print(collection.find_one(query))"
   ]
  }
 ],
 "metadata": {
  "interpreter": {
   "hash": "831e9d60628f49ef695c1224b896fa86c6f72dc359ca6b6e6521097980c4e285"
  },
  "kernelspec": {
   "display_name": "Python 3.10.1 64-bit",
   "language": "python",
   "name": "python3"
  },
  "language_info": {
   "codemirror_mode": {
    "name": "ipython",
    "version": 3
   },
   "file_extension": ".py",
   "mimetype": "text/x-python",
   "name": "python",
   "nbconvert_exporter": "python",
   "pygments_lexer": "ipython3",
   "version": "3.10.1"
  },
  "orig_nbformat": 4
 },
 "nbformat": 4,
 "nbformat_minor": 2
}
