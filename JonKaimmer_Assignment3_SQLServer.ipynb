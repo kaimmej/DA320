{
 "cells": [
  {
   "cell_type": "markdown",
   "metadata": {},
   "source": [
    "\n",
    "# DA320 Assignment 3: SQL Server\n",
    "Jon Kaimmer  \n",
    "DA320  \n",
    "Winter2022\n",
    "\n",
    "\n",
    " ### Summary\n",
    " My program scrapes web data for movies released in 2010. This data is stored in an array of movie Objects and then each movie Object is asked to update itself to a local SQL Server. \n",
    "Process:\n",
    " - Data Fields (variable and object declarations)\n",
    " - Webscraping (Data is scraped from the web and housed in a local variable string of text)\n",
    " - Regular expressions are used to search for and extract desired movie data \n",
    " - Each movie's data is aggregated and assembled locally in a python class object \n",
    " - Finally, each Python object calls a self defined \"uploadToSQL\" function that handels the data transfer to our SQL Server database. "
   ]
  },
  {
   "cell_type": "markdown",
   "metadata": {},
   "source": [
    "### DATA FIELDS"
   ]
  },
  {
   "cell_type": "code",
   "execution_count": null,
   "metadata": {},
   "outputs": [],
   "source": [
    "#IMPORTS\n",
    "import urllib3\n",
    "import re\n",
    "import json\n",
    "import pyodbc\n",
    "\n",
    "webLinkDict = {\n",
    "    2010 : \"https://www.metacritic.com/browse/movies/score/metascore/year/filtered?year_selected=2010&sort=desc&view=detailed\"\n",
    "}\n",
    "numberOfMovies = 100\n",
    "movieArray = []\n",
    "SQLquery=\"INSERT INTO movies (movieName,description,releaseDate,metascore,movieImage) values (?,?,?,?,?)\"\n",
    "\n",
    "#MOVIE OBJECT DEFINITION \n",
    "#Individual objects store the data that is scraped from the metacritic website for each movie. This data is warehoused in the array named \"movieArray\"\n",
    "class movie():\n",
    "    def __init__(self, title, movieNumber, releaseDate, metacriticScore, image, movieSummary):\n",
    "        self.title = title\n",
    "        self.movieNumber = movieNumber\n",
    "        self.releaseDate = releaseDate\n",
    "        self.metacriticScore = metacriticScore\n",
    "        self.image= image\n",
    "        self.movieSummary = movieSummary\n",
    "    def toString(self):\n",
    "        print(f\"{self.title}  Movie#{self.movieNumber}\")\n",
    "        print(f\"{self.title}  Released: {self.releaseDate}\")\n",
    "        print(f\"{self.title}  Metacritic Score: {self.metacriticScore}\")\n",
    "        print(f\"{self.title}  Image: {self.image}\")\n",
    "        print(f\"{self.title}  Summary: \\n\\t{self.movieSummary}\")\n",
    "        print(\"---\")\n",
    "    def parameterize(self):\n",
    "        return (self.title, self.movieSummary, self.releaseDate, self.metacriticScore, self.image)\n",
    "    def uploadToSQLServer(self, cursor):\n",
    "        cursor.execute(SQLquery,self.parameterize())\n",
    "\n",
    "#REGULAR EXPRESSIONS\n",
    "#compile regular expressions into pattern objects\n",
    "movieNumberREGEX = re.compile(r'\\<span class=\"title numbered\">*\\s+(\\d*)')  \n",
    "movieTitleREGEX = re.compile(r'class=\"title\"><h3>(.*?)<\\/h3>')     \n",
    "movieDateOfReleaseREGEX = re.compile(r'\\s*<span>(\\S+ \\d+, \\d+)')   \n",
    "movieDescriptionREGEX = re.compile(r'<div class=\"summary\">\\n\\s+(.*)')\n",
    "movieMetacriticScoreREGEX = re.compile(\"<span class=\\\"title\\\">Metascore:<\\\\/span>\\\\s+<a class=\\\"metascore_anchor\\\" href=\\\"\\\\/movie\\\\/.*?\\\\/critic-reviews\\\">\\s+<div class=\\\"metascore_w large movie positive\\\">(.*?)<\\\\/div>\")\n",
    "movieImageREGEX = re.compile(r'<a href=\\\"\\/.*?<img src=\\\"(https:\\/\\/.*?)\\\" alt=\\\"')  "
   ]
  },
  {
   "cell_type": "markdown",
   "metadata": {},
   "source": [
    "  \n",
    "### PULL DOWN METACRITIC WEBPAGE"
   ]
  },
  {
   "cell_type": "code",
   "execution_count": null,
   "metadata": {},
   "outputs": [],
   "source": [
    "# Construct a python request pool\n",
    "http = urllib3.PoolManager()\n",
    "\n",
    "# Initiate a web request\n",
    "r = http.request('GET', webLinkDict[2010], headers={'User-Agent': 'Mozilla/5.0'})\n",
    "\n",
    "# Convert the result from raw bytes to text\n",
    "datastring = str(r.data, \"utf-8\")"
   ]
  },
  {
   "cell_type": "markdown",
   "metadata": {},
   "source": [
    "### EXTRACT DATA USING REGULAR EXPRESSIONS"
   ]
  },
  {
   "cell_type": "code",
   "execution_count": null,
   "metadata": {},
   "outputs": [],
   "source": [
    "list_movieTitles = re.findall(movieTitleREGEX, datastring)   #Extract list of movie titles\n",
    "list_movieNumbers = re.findall(movieNumberREGEX, datastring)   #Extract list of movie numbers\n",
    "list_releaseDates = re.findall(movieDateOfReleaseREGEX, datastring)   #Extract list of release dates\n",
    "list_movieDescriptions = movieDescriptionREGEX.findall(datastring)   #Extract list of movie summaries\n",
    "list_movieImages = movieImageREGEX.findall(datastring)   #Extract list of movie images\n",
    "list_movieMetaCriticScores = movieMetacriticScoreREGEX.findall(datastring)   #Extract list of metacritic scores"
   ]
  },
  {
   "cell_type": "markdown",
   "metadata": {},
   "source": [
    "### ASSEMBLE DATA LOCALLY IN PYTHON CLASS OBJECT"
   ]
  },
  {
   "cell_type": "code",
   "execution_count": null,
   "metadata": {},
   "outputs": [],
   "source": [
    "\n",
    "#Load data into array of movieObjects.\n",
    "#This happens in 4 steps:\n",
    "    #Step 1 - iterate over the total number of movie objects\n",
    "    #Step 2 - create a new instance of a movie class object\n",
    "    #Step 3 - instantiate that new movie instance with the aggregated data from the lists of webscraped data. \n",
    "    #Step 4 - Newly created and filled movie object is appended to the array of movie objects\n",
    "\n",
    "#movie(title, movieNumber, releaseDate, metacriticScore, image, movieSummary):\n",
    "for i in range(len(list_movieNumbers)):\n",
    "    movieArray.append( movie(\n",
    "        list_movieTitles[i], \n",
    "        list_movieNumbers[i], \n",
    "        list_releaseDates[i],\n",
    "        list_movieMetaCriticScores[i],\n",
    "        list_movieImages[i],\n",
    "        list_movieDescriptions[i]\n",
    "        ))"
   ]
  },
  {
   "cell_type": "markdown",
   "metadata": {},
   "source": [
    "### ESTABLISH CONNECTION TO SQL SERVER"
   ]
  },
  {
   "cell_type": "code",
   "execution_count": null,
   "metadata": {},
   "outputs": [],
   "source": [
    "credentialLocation = \"C:\\\\Users\\\\jonat\\\\OneDrive\\\\Documents\\\\GitHub\\\\WebScraping_JupyterNB\\\\credentials.json\"\n",
    "with open(credentialLocation, 'r') as myFile:\n",
    "    data = myFile.read() #read file\n",
    "    credentialDict = json.loads(data) #parse json file into a python dictionary\n",
    "    userName = credentialDict['userName']\n",
    "    password = credentialDict['password']\n",
    "\n",
    "# Create the pyodbc bridge to our SQL database\n",
    "#   Create a connection string to my local SQL Server\n",
    "connectionString = (\n",
    "            \"Driver={SQL Server};\"\n",
    "            \"Server=LAPTOP-V05JMA9V;\"\n",
    "            \"Database=MoviesDB;\"\n",
    "            \"Trusted_Connection=yes;\"\n",
    "            \"UID=\" + userName + \";\"\n",
    "            \"PWD=\" + password + \";\"\n",
    "            )\n",
    "connection = pyodbc.connect(connectionString)\n",
    "\n",
    "# Create cursor object\n",
    "cursor = connection.cursor()"
   ]
  },
  {
   "cell_type": "markdown",
   "metadata": {},
   "source": [
    "### INSERT DATA INTO SQL SERVER DATABASE"
   ]
  },
  {
   "cell_type": "code",
   "execution_count": null,
   "metadata": {},
   "outputs": [],
   "source": [
    "#Data is currently stored in our array of movie objects. We need iterate over and send each ones data in a cursor.execute statement to our local SQL Server\n",
    "#Breakdown:\n",
    "    #Step 1 - iterate over the total number of movie objects\n",
    "    #Step 2 - call self defined \"uploadToSQLServer()\" function. (Parameters: connection cursor) (Return value: N/A)\n",
    "        #Step 2.1 - self.parameterize() formats and returns our SQL arguments (Parameters: N/A) (Return Value: TUPLE(self.title, self.movieSummary, self.releaseDate, self.metacriticScore, self.image))\n",
    "        #Step 2.2 - self.uploadToSQLServer() calls the connection.execute command on our SQL statement and SQL arguments\n",
    "    #End of Loop\n",
    "    #Step 3 - commit changes to SQL server\n",
    "\n",
    "\n",
    "for movie in movieArray:\n",
    "    movie.uploadToSQLServer(cursor)\n",
    "cursor.commit()"
   ]
  },
  {
   "cell_type": "markdown",
   "metadata": {},
   "source": [
    "### PRINT OUTPUT"
   ]
  },
  {
   "cell_type": "code",
   "execution_count": null,
   "metadata": {},
   "outputs": [],
   "source": [
    "#Loop over the movie array and use embedded \"movieToString()\" function to print our result. \n",
    "for movie in movieArray:\n",
    "    movie.toString()"
   ]
  }
 ],
 "metadata": {
  "language_info": {
   "name": "python"
  },
  "orig_nbformat": 4
 },
 "nbformat": 4,
 "nbformat_minor": 2
}
