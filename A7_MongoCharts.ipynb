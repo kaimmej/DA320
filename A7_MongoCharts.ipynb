{
 "cells": [
  {
   "cell_type": "markdown",
   "metadata": {},
   "source": [
    "# DA320 Assignment 7: Mongo Charts\n",
    "Jon Kaimmer  \n",
    "DA320  \n",
    "Winter2022\n",
    "\n",
    "\n",
    " ### Introduction\n",
    "Lets import some chirp data and try and get it into a chart."
   ]
  },
  {
   "cell_type": "code",
   "execution_count": 481,
   "metadata": {},
   "outputs": [],
   "source": [
    "#IMPORTS\n",
    "import os\n",
    "import pymongo\n",
    "import numpy as np\n",
    "import matplotlib.pyplot as plt\n",
    "import seaborn as sns\n",
    "import pandas as pd\n",
    "import json as json\n",
    "import pprint\n",
    "import plotly.express as px\n",
    "\n",
    "\n",
    "# import warnings\n",
    "# warnings.filterwarnings('ignore') #Ignore the seaborn warnings...\n",
    "\n",
    "#METHODS\n",
    "def connectToMongoDB():\n",
    "    with open(credentialLocation, 'r') as myFile:   #open seperate file that stores passwords in JSON array format\n",
    "        data = myFile.read()                        #read file into memory\n",
    "        credentialDict = json.loads(data)           #parse json file into a python dictionary\n",
    "        \n",
    "        return(credentialDict['MONGO']['mDBconnectionString'])\n",
    "\n",
    "#FIELDS\n",
    "credentialLocation = r\"C:\\Users\\\\jonat\\\\OneDrive\\Documents\\GitHub\\\\DA320\\credentials.json\"\n",
    "\n",
    "sns.set(rc = {'figure.figsize':(40,8)})"
   ]
  },
  {
   "cell_type": "markdown",
   "metadata": {},
   "source": [
    "### GET USER INPUT"
   ]
  },
  {
   "cell_type": "code",
   "execution_count": 482,
   "metadata": {},
   "outputs": [],
   "source": [
    "#GET USER INPUT\n",
    "# userInput = input('Enter your value: ')\n",
    "# print(userInput)"
   ]
  },
  {
   "cell_type": "markdown",
   "metadata": {},
   "source": [
    "### Read MongoDB connection string from my credentials.json file"
   ]
  },
  {
   "cell_type": "code",
   "execution_count": 483,
   "metadata": {},
   "outputs": [
    {
     "name": "stdout",
     "output_type": "stream",
     "text": [
      "{'host': 'mongocluster-shard-00-02.89mgz.mongodb.net:27017', 'version': '5.0.6', 'process': 'mongod', 'pid': 273131, 'uptime': 1105898.0, 'uptimeMillis': 1105898612, 'uptimeEstimate': 1105898, 'localTime': datetime.datetime(2022, 3, 1, 15, 27, 24, 704000), 'asserts': {'regular': 0, 'warning': 0, 'msg': 0, 'user': 0, 'rollovers': 0}, 'connections': {'current': 10, 'available': 490, 'totalCreated': 407}, 'extra_info': {'note': 'fields vary by platform', 'page_faults': 0}, 'network': {'bytesIn': 4726199, 'bytesOut': 497176960, 'numRequests': 35295}, 'opcounters': {'insert': 0, 'query': 40, 'update': 0, 'delete': 0, 'getmore': 0, 'command': 35255, 'deprecated': {'query': 0, 'getmore': 0}}, 'opcountersRepl': {'insert': 0, 'query': 0, 'update': 0, 'delete': 0, 'getmore': 0, 'command': 0, 'deprecated': {'query': 0, 'getmore': 0}}, 'repl': {'topologyVersion': {'processId': ObjectId('620d5b7267d6a9347332356f'), 'counter': 6}, 'hosts': ['mongocluster-shard-00-00.89mgz.mongodb.net:27017', 'mongocluster-shard-00-01.89mgz.mongodb.net:27017', 'mongocluster-shard-00-02.89mgz.mongodb.net:27017'], 'setName': 'atlas-q74gkh-shard-0', 'setVersion': 7, 'isWritablePrimary': True, 'secondary': False, 'primary': 'mongocluster-shard-00-02.89mgz.mongodb.net:27017', 'tags': {'provider': 'AWS', 'workloadType': 'OPERATIONAL', 'region': 'US_WEST_2', 'nodeType': 'ELECTABLE'}, 'me': 'mongocluster-shard-00-02.89mgz.mongodb.net:27017', 'electionId': ObjectId('7fffffff0000000000000050'), 'lastWrite': {'opTime': {'ts': Timestamp(1646148444, 2), 't': 80}, 'lastWriteDate': datetime.datetime(2022, 3, 1, 15, 27, 24), 'majorityOpTime': {'ts': Timestamp(1646148444, 2), 't': 80}, 'majorityWriteDate': datetime.datetime(2022, 3, 1, 15, 27, 24)}, 'primaryOnlyServices': {'TenantMigrationRecipientService': {'state': 'running', 'numInstances': 0}, 'TenantMigrationDonorService': {'state': 'running', 'numInstances': 0}}, 'rbid': 1}, 'storageEngine': {'name': 'wiredTiger', 'supportsCommittedReads': True, 'oldestRequiredTimestampForCrashRecovery': Timestamp(1646148399, 2), 'supportsPendingDrops': True, 'dropPendingIdents': 0, 'supportsSnapshotReadConcern': True, 'readOnly': False, 'persistent': True, 'backupCursorOpen': False, 'supportsResumableIndexBuilds': True}, 'mem': {'bits': 64, 'resident': 0, 'virtual': 0, 'supported': True, 'mapped': 0, 'mappedWithJournal': 0}, 'metrics': {'aggStageCounters': {'search': 0, 'searchBeta': 0, 'searchMeta': 0}, 'atlas': {'connectionPool': {'totalCreated': 46623}}}, 'ok': 1.0, '$clusterTime': {'clusterTime': Timestamp(1646148444, 2), 'signature': {'hash': b'v\\x8a\\xa1\\xbc\\x88V\\x82\\xe7\\x9f:\\x8c\\xc4\\xa0%\\xbc\\xaf\\xa3C\\x02r', 'keyId': 7010465329583226882}}, 'operationTime': Timestamp(1646148444, 2), 'opLatencies': {'reads': {'latency': 37564429, 'ops': 80}, 'writes': {'latency': 0, 'ops': 0}, 'commands': {'latency': 666635212431, 'ops': 35209}}, 'atlasVersion': {'version': '20220216.0.0.1645051115', 'gitVersion': '9bc37b8bbc0f8e7cc017cb154685461a01f85d7a'}}\n"
     ]
    }
   ],
   "source": [
    "MONGOconnectionString = connectToMongoDB()\n",
    "client = pymongo.MongoClient(MONGOconnectionString)\n",
    "db = client.admin\n",
    "\n",
    "serverStatusResult=db.command('serverStatus')\n",
    "print(serverStatusResult)"
   ]
  },
  {
   "cell_type": "markdown",
   "metadata": {},
   "source": [
    "### Query MongoDB"
   ]
  },
  {
   "cell_type": "code",
   "execution_count": 484,
   "metadata": {},
   "outputs": [
    {
     "name": "stdout",
     "output_type": "stream",
     "text": [
      "{'_id': ObjectId('6201da43350c4e4f36592a2e'), 'name': 'Kingston Gutierrez', 'date': '2019-04-28T20:16:13.931629-07:00', 'comment': 'I hate ice cream', 'location': {'latitude': 51.185218811035156, 'longitude': -114.47618865966797, 'country': 'CA', 'region': 'AB'}, 'likes': 12, 'responses': 6}\n"
     ]
    }
   ],
   "source": [
    "db = client['MoviesDB'] #<- MoviesDB is the mongoCLUSTER\n",
    "chirpCollection = db['movies'] # <-movies is the chirps collection within the mongoCluster\n",
    "\n",
    "query = {'comment' : 'I hate ice cream'}\n",
    "print(chirpCollection.find_one(query))"
   ]
  },
  {
   "cell_type": "markdown",
   "metadata": {},
   "source": [
    "### Create a simple pipeline: match to \"i hate ice cream\" and group on the month field. "
   ]
  },
  {
   "cell_type": "code",
   "execution_count": 485,
   "metadata": {},
   "outputs": [],
   "source": [
    "simplePipeline = [\n",
    "    { \n",
    "        '$match': { 'likes': { '$gte': 10 } }\n",
    "    }, {\n",
    "        '$addFields': \n",
    "            {\n",
    "                'Year': {'$toInt': {'$substr': ['$date', 0, 4]}}, \n",
    "                'Month': {'$toInt': {'$substr': ['$date', 5, 2]}}, \n",
    "                'Day': {'$toInt': {'$substr': ['$date', 8, 2]}}\n",
    "            }\n",
    "        }, {\n",
    "        '$set': \n",
    "            {\n",
    "            'subject': {\n",
    "                '$switch': {\n",
    "                    'branches': \n",
    "                    [\n",
    "                        {'case': {'$gte': [{ '$indexOfCP': [ '$comment', 'hiking'] }, 0] }, 'then': 'Hiking'}, \n",
    "                        {'case': {'$gte': [{'$indexOfCP': [ '$comment', 'camping'] }, 0] }, 'then': 'Camping'}, \n",
    "                        {'case': {'$gte': [{'$indexOfCP': ['$comment', 'ice cream']}, 0] }, 'then': 'Ice cream' }, \n",
    "                        {'case': {'$gte': [{'$indexOfCP': ['$comment', 'tacos']}, 0] }, 'then': 'Tacos'}, \n",
    "                        {'case': {'$gte': [{'$indexOfCP': [ '$comment', 'walks on the beach' ] }, 0]}, 'then': 'Walks on the beach'}, \n",
    "                        {'case': { '$gte': [ {'$indexOfCP': [ '$comment', 'skiing'] }, 0]}, 'then': 'Skiing' }\n",
    "                    ],'default': 'DID NOT MATCH'\n",
    "                }\n",
    "            }\n",
    "        }\n",
    "    }, {\n",
    "        '$set': {\n",
    "            'sentiment': {\n",
    "                '$switch': {\n",
    "                    'branches': \n",
    "                    [\n",
    "                        {'case': {'$gte': [{'$indexOfCP': ['$comment', 'I love'] }, 0] }, 'then': 1}, \n",
    "                        {'case': {'$gte': [ {'$indexOfCP': ['$comment', 'Maybe I']}, 0 ]}, 'then': 0.3}, \n",
    "                        {'case': {'$gte': [{'$indexOfCP': ['$comment', 'I like']}, 0] }, 'then': 0.6}, \n",
    "                        {'case': {'$gte': [{'$indexOfCP': ['$comment', 'I think']}, 0]}, 'then': 0.1}, \n",
    "                        {'case': {'$gte': [{'$indexOfCP': ['$comment', 'I hate']}, 0]}, 'then': -0.6},\n",
    "                        {'case': {'$gte': [{'$indexOfCP': ['$comment', 'really hate']}, 0]}, 'then': -1}\n",
    "                        ],'default': 'DID NOT MATCH'\n",
    "                }\n",
    "            }\n",
    "        }\n",
    "    }, \n",
    "    # Not working as it is.... It is hard to access dictionaries within PANDAS DATAFRAMES...\n",
    "    {\n",
    "        '$group': {\n",
    "            '_id': {\n",
    "                'subject': '$subject', \n",
    "                'year': '$Year', \n",
    "                'month': '$Month'\n",
    "            }, \n",
    "            'chirpCount': {'$sum': 1}, \n",
    "            'averageSentiment': {'$avg': '$sentiment'}, \n",
    "            'chirps': {\n",
    "                '$push': {\n",
    "                    'name': '$name', \n",
    "                    'comment': '$comment', \n",
    "                    'sentiment': '$sentiment', \n",
    "                    'location': '$location'\n",
    "                }\n",
    "            }\n",
    "        }\n",
    "    }  \n",
    "]\n",
    "\n",
    "results = chirpCollection.aggregate(simplePipeline)\n",
    "\n"
   ]
  },
  {
   "cell_type": "markdown",
   "metadata": {},
   "source": [
    "### My aggregation looks like this prior to being cleaned\n",
    "Notice that the _id column is a single JSON Object whereas the chirps column is a JSON Array of each of the chrips."
   ]
  },
  {
   "cell_type": "code",
   "execution_count": 486,
   "metadata": {},
   "outputs": [
    {
     "data": {
      "text/html": [
       "<div>\n",
       "<style scoped>\n",
       "    .dataframe tbody tr th:only-of-type {\n",
       "        vertical-align: middle;\n",
       "    }\n",
       "\n",
       "    .dataframe tbody tr th {\n",
       "        vertical-align: top;\n",
       "    }\n",
       "\n",
       "    .dataframe thead th {\n",
       "        text-align: right;\n",
       "    }\n",
       "</style>\n",
       "<table border=\"1\" class=\"dataframe\">\n",
       "  <thead>\n",
       "    <tr style=\"text-align: right;\">\n",
       "      <th></th>\n",
       "      <th>_id</th>\n",
       "      <th>chirpCount</th>\n",
       "      <th>averageSentiment</th>\n",
       "      <th>chirps</th>\n",
       "    </tr>\n",
       "  </thead>\n",
       "  <tbody>\n",
       "    <tr>\n",
       "      <th>0</th>\n",
       "      <td>{'subject': 'Ice cream', 'year': 2020, 'month'...</td>\n",
       "      <td>600</td>\n",
       "      <td>0.100000</td>\n",
       "      <td>[{'name': 'Samara Blake', 'comment': 'I like i...</td>\n",
       "    </tr>\n",
       "    <tr>\n",
       "      <th>1</th>\n",
       "      <td>{'subject': 'Walks on the beach', 'year': 2019...</td>\n",
       "      <td>731</td>\n",
       "      <td>0.116142</td>\n",
       "      <td>[{'name': 'Elias Hopkins', 'comment': 'I hate ...</td>\n",
       "    </tr>\n",
       "    <tr>\n",
       "      <th>2</th>\n",
       "      <td>{'subject': 'Walks on the beach', 'year': 2020...</td>\n",
       "      <td>754</td>\n",
       "      <td>0.114058</td>\n",
       "      <td>[{'name': 'Melody Gilmore', 'comment': 'Maybe ...</td>\n",
       "    </tr>\n",
       "    <tr>\n",
       "      <th>3</th>\n",
       "      <td>{'subject': 'Camping', 'year': 2020, 'month': 2}</td>\n",
       "      <td>812</td>\n",
       "      <td>0.102094</td>\n",
       "      <td>[{'name': 'Parker Solomon', 'comment': 'I real...</td>\n",
       "    </tr>\n",
       "    <tr>\n",
       "      <th>4</th>\n",
       "      <td>{'subject': 'Skiing', 'year': 2020, 'month': 1}</td>\n",
       "      <td>1028</td>\n",
       "      <td>0.102432</td>\n",
       "      <td>[{'name': 'Christian Landry', 'comment': 'I li...</td>\n",
       "    </tr>\n",
       "    <tr>\n",
       "      <th>...</th>\n",
       "      <td>...</td>\n",
       "      <td>...</td>\n",
       "      <td>...</td>\n",
       "      <td>...</td>\n",
       "    </tr>\n",
       "    <tr>\n",
       "      <th>73</th>\n",
       "      <td>{'subject': 'Camping', 'year': 2019, 'month': 9}</td>\n",
       "      <td>838</td>\n",
       "      <td>0.119093</td>\n",
       "      <td>[{'name': 'Cruz Stein', 'comment': 'Maybe I li...</td>\n",
       "    </tr>\n",
       "    <tr>\n",
       "      <th>74</th>\n",
       "      <td>{'subject': 'Tacos', 'year': 2019, 'month': 7}</td>\n",
       "      <td>685</td>\n",
       "      <td>0.094891</td>\n",
       "      <td>[{'name': 'Kayla Coffey', 'comment': 'I really...</td>\n",
       "    </tr>\n",
       "    <tr>\n",
       "      <th>75</th>\n",
       "      <td>{'subject': 'Camping', 'year': 2020, 'month': 1}</td>\n",
       "      <td>850</td>\n",
       "      <td>0.122824</td>\n",
       "      <td>[{'name': 'Luna Chen', 'comment': 'I hate camp...</td>\n",
       "    </tr>\n",
       "    <tr>\n",
       "      <th>76</th>\n",
       "      <td>{'subject': 'Ice cream', 'year': 2019, 'month'...</td>\n",
       "      <td>578</td>\n",
       "      <td>0.079585</td>\n",
       "      <td>[{'name': 'Jordan Esparza', 'comment': 'I hate...</td>\n",
       "    </tr>\n",
       "    <tr>\n",
       "      <th>77</th>\n",
       "      <td>{'subject': 'Walks on the beach', 'year': 2020...</td>\n",
       "      <td>715</td>\n",
       "      <td>0.122657</td>\n",
       "      <td>[{'name': 'Valentina Small', 'comment': 'I lik...</td>\n",
       "    </tr>\n",
       "  </tbody>\n",
       "</table>\n",
       "<p>78 rows × 4 columns</p>\n",
       "</div>"
      ],
      "text/plain": [
       "                                                  _id  chirpCount  \\\n",
       "0   {'subject': 'Ice cream', 'year': 2020, 'month'...         600   \n",
       "1   {'subject': 'Walks on the beach', 'year': 2019...         731   \n",
       "2   {'subject': 'Walks on the beach', 'year': 2020...         754   \n",
       "3    {'subject': 'Camping', 'year': 2020, 'month': 2}         812   \n",
       "4     {'subject': 'Skiing', 'year': 2020, 'month': 1}        1028   \n",
       "..                                                ...         ...   \n",
       "73   {'subject': 'Camping', 'year': 2019, 'month': 9}         838   \n",
       "74     {'subject': 'Tacos', 'year': 2019, 'month': 7}         685   \n",
       "75   {'subject': 'Camping', 'year': 2020, 'month': 1}         850   \n",
       "76  {'subject': 'Ice cream', 'year': 2019, 'month'...         578   \n",
       "77  {'subject': 'Walks on the beach', 'year': 2020...         715   \n",
       "\n",
       "    averageSentiment                                             chirps  \n",
       "0           0.100000  [{'name': 'Samara Blake', 'comment': 'I like i...  \n",
       "1           0.116142  [{'name': 'Elias Hopkins', 'comment': 'I hate ...  \n",
       "2           0.114058  [{'name': 'Melody Gilmore', 'comment': 'Maybe ...  \n",
       "3           0.102094  [{'name': 'Parker Solomon', 'comment': 'I real...  \n",
       "4           0.102432  [{'name': 'Christian Landry', 'comment': 'I li...  \n",
       "..               ...                                                ...  \n",
       "73          0.119093  [{'name': 'Cruz Stein', 'comment': 'Maybe I li...  \n",
       "74          0.094891  [{'name': 'Kayla Coffey', 'comment': 'I really...  \n",
       "75          0.122824  [{'name': 'Luna Chen', 'comment': 'I hate camp...  \n",
       "76          0.079585  [{'name': 'Jordan Esparza', 'comment': 'I hate...  \n",
       "77          0.122657  [{'name': 'Valentina Small', 'comment': 'I lik...  \n",
       "\n",
       "[78 rows x 4 columns]"
      ]
     },
     "execution_count": 486,
     "metadata": {},
     "output_type": "execute_result"
    }
   ],
   "source": [
    "data_df = pd.DataFrame(list(results))\n",
    "data_df"
   ]
  },
  {
   "cell_type": "code",
   "execution_count": 487,
   "metadata": {},
   "outputs": [],
   "source": [
    "#You can use a for loop to print each row of data\n",
    "# for chirp in results:\n",
    "#     print(f\"{chirp['_id']['subject']} {chirp['_id']['month']}/{chirp['_id']['year']}\\n  averageSentiment: {chirp['averageSentiment']}\\n  chirpCount: {chirp['chirpCount']}\\n\" )"
   ]
  },
  {
   "cell_type": "markdown",
   "metadata": {},
   "source": [
    "### So lets clean this data.\n",
    "- First lets break out the '_id' JSON Object into their own columns.\n",
    "- Then we will rename those columns and reindex them. "
   ]
  },
  {
   "cell_type": "code",
   "execution_count": 504,
   "metadata": {},
   "outputs": [
    {
     "data": {
      "text/html": [
       "<div>\n",
       "<style scoped>\n",
       "    .dataframe tbody tr th:only-of-type {\n",
       "        vertical-align: middle;\n",
       "    }\n",
       "\n",
       "    .dataframe tbody tr th {\n",
       "        vertical-align: top;\n",
       "    }\n",
       "\n",
       "    .dataframe thead th {\n",
       "        text-align: right;\n",
       "    }\n",
       "</style>\n",
       "<table border=\"1\" class=\"dataframe\">\n",
       "  <thead>\n",
       "    <tr style=\"text-align: right;\">\n",
       "      <th></th>\n",
       "    </tr>\n",
       "  </thead>\n",
       "  <tbody>\n",
       "    <tr>\n",
       "      <th>0</th>\n",
       "    </tr>\n",
       "    <tr>\n",
       "      <th>1</th>\n",
       "    </tr>\n",
       "    <tr>\n",
       "      <th>2</th>\n",
       "    </tr>\n",
       "    <tr>\n",
       "      <th>3</th>\n",
       "    </tr>\n",
       "  </tbody>\n",
       "</table>\n",
       "</div>"
      ],
      "text/plain": [
       "Empty DataFrame\n",
       "Columns: []\n",
       "Index: [0, 1, 2, 3]"
      ]
     },
     "execution_count": 504,
     "metadata": {},
     "output_type": "execute_result"
    }
   ],
   "source": [
    "### Normalize data using pandas\n",
    "#\n",
    "# This data has JSON objects nestled within it. To start we will need break out the ['subject', 'year', 'month'] fields that are nestled behind '_.id\". Basically i had created a multilayered key for my _id index in MongoDB. I need to now break that out into a long form datastructure.\n",
    "# We can do that with .json_normalize built in pandas funciton. \n",
    "# Note that the _id column is a JSON object while the chirps column is a JSON array.\n",
    "df = pd.json_normalize(\n",
    "        data_df[\"_id\",\"averageSentiment\"]\n",
    "        # ,\n",
    "        # data_df[\"_id\"],\n",
    "        # meta=[\"chirpCount\",\"averageSentiment\"]\n",
    "    )\n",
    "df"
   ]
  },
  {
   "cell_type": "code",
   "execution_count": 505,
   "metadata": {},
   "outputs": [
    {
     "data": {
      "text/html": [
       "<div>\n",
       "<style scoped>\n",
       "    .dataframe tbody tr th:only-of-type {\n",
       "        vertical-align: middle;\n",
       "    }\n",
       "\n",
       "    .dataframe tbody tr th {\n",
       "        vertical-align: top;\n",
       "    }\n",
       "\n",
       "    .dataframe thead th {\n",
       "        text-align: right;\n",
       "    }\n",
       "</style>\n",
       "<table border=\"1\" class=\"dataframe\">\n",
       "  <thead>\n",
       "    <tr style=\"text-align: right;\">\n",
       "      <th></th>\n",
       "      <th>subject</th>\n",
       "      <th>year</th>\n",
       "      <th>month</th>\n",
       "      <th>chirpCount</th>\n",
       "      <th>averageSentiment</th>\n",
       "      <th>chirps</th>\n",
       "    </tr>\n",
       "  </thead>\n",
       "  <tbody>\n",
       "    <tr>\n",
       "      <th>0</th>\n",
       "      <td>NaN</td>\n",
       "      <td>NaN</td>\n",
       "      <td>NaN</td>\n",
       "      <td>NaN</td>\n",
       "      <td>NaN</td>\n",
       "      <td>NaN</td>\n",
       "    </tr>\n",
       "    <tr>\n",
       "      <th>1</th>\n",
       "      <td>NaN</td>\n",
       "      <td>NaN</td>\n",
       "      <td>NaN</td>\n",
       "      <td>NaN</td>\n",
       "      <td>NaN</td>\n",
       "      <td>NaN</td>\n",
       "    </tr>\n",
       "    <tr>\n",
       "      <th>2</th>\n",
       "      <td>NaN</td>\n",
       "      <td>NaN</td>\n",
       "      <td>NaN</td>\n",
       "      <td>NaN</td>\n",
       "      <td>NaN</td>\n",
       "      <td>NaN</td>\n",
       "    </tr>\n",
       "    <tr>\n",
       "      <th>3</th>\n",
       "      <td>NaN</td>\n",
       "      <td>NaN</td>\n",
       "      <td>NaN</td>\n",
       "      <td>NaN</td>\n",
       "      <td>NaN</td>\n",
       "      <td>NaN</td>\n",
       "    </tr>\n",
       "  </tbody>\n",
       "</table>\n",
       "</div>"
      ],
      "text/plain": [
       "   subject  year  month  chirpCount  averageSentiment  chirps\n",
       "0      NaN   NaN    NaN         NaN               NaN     NaN\n",
       "1      NaN   NaN    NaN         NaN               NaN     NaN\n",
       "2      NaN   NaN    NaN         NaN               NaN     NaN\n",
       "3      NaN   NaN    NaN         NaN               NaN     NaN"
      ]
     },
     "execution_count": 505,
     "metadata": {},
     "output_type": "execute_result"
    }
   ],
   "source": [
    "\n",
    "#we want to rename these three columns. We are doing this so that when we chart this data downbelow, we will be able to use \"dot notation\" to access the columns. if there is a period in the name of the column it causes us issues. \n",
    "#   _id.subject -> subject\n",
    "#   _id.year -> year\n",
    "#   _id.month -> month\n",
    "df = df.rename( columns = \n",
    "    { \n",
    "        '_id.subject':'subject',\n",
    "        '_id.year':'year',\n",
    "        '_id.month':'month',\n",
    "    }#, inplace=True #inplace=True means that the original dataframe is being modified, as opposed to a new dataframe being created. \n",
    ")\n",
    "#and now lets reorder our columns useing dataFrame.reindex\n",
    "df = df.reindex(columns=['subject', 'year', 'month', 'chirpCount', 'averageSentiment', 'chirps'])\n",
    "df"
   ]
  },
  {
   "cell_type": "markdown",
   "metadata": {},
   "source": [
    "- Finally, lets handle the JSON array and create a new dataframe just for that data."
   ]
  },
  {
   "cell_type": "markdown",
   "metadata": {},
   "source": [
    "### This data is in LONG FORMAT\n",
    "This is not Tidy data, the last line of code ...json_normalize... effectively breaks apart and expands (into new columns) the _id column that we created in our MongoDB aggregation. "
   ]
  },
  {
   "cell_type": "code",
   "execution_count": 490,
   "metadata": {},
   "outputs": [
    {
     "data": {
      "text/html": [
       "<div>\n",
       "<style scoped>\n",
       "    .dataframe tbody tr th:only-of-type {\n",
       "        vertical-align: middle;\n",
       "    }\n",
       "\n",
       "    .dataframe tbody tr th {\n",
       "        vertical-align: top;\n",
       "    }\n",
       "\n",
       "    .dataframe thead th {\n",
       "        text-align: right;\n",
       "    }\n",
       "</style>\n",
       "<table border=\"1\" class=\"dataframe\">\n",
       "  <thead>\n",
       "    <tr style=\"text-align: right;\">\n",
       "      <th></th>\n",
       "      <th>subject</th>\n",
       "      <th>year</th>\n",
       "      <th>month</th>\n",
       "      <th>chirpCount</th>\n",
       "      <th>averageSentiment</th>\n",
       "      <th>chirps</th>\n",
       "    </tr>\n",
       "  </thead>\n",
       "  <tbody>\n",
       "    <tr>\n",
       "      <th>0</th>\n",
       "      <td>Ice cream</td>\n",
       "      <td>2019</td>\n",
       "      <td>6</td>\n",
       "      <td>NaN</td>\n",
       "      <td>NaN</td>\n",
       "      <td>NaN</td>\n",
       "    </tr>\n",
       "    <tr>\n",
       "      <th>1</th>\n",
       "      <td>Tacos</td>\n",
       "      <td>2020</td>\n",
       "      <td>3</td>\n",
       "      <td>NaN</td>\n",
       "      <td>NaN</td>\n",
       "      <td>NaN</td>\n",
       "    </tr>\n",
       "    <tr>\n",
       "      <th>2</th>\n",
       "      <td>Hiking</td>\n",
       "      <td>2020</td>\n",
       "      <td>2</td>\n",
       "      <td>NaN</td>\n",
       "      <td>NaN</td>\n",
       "      <td>NaN</td>\n",
       "    </tr>\n",
       "    <tr>\n",
       "      <th>3</th>\n",
       "      <td>Skiing</td>\n",
       "      <td>2019</td>\n",
       "      <td>4</td>\n",
       "      <td>NaN</td>\n",
       "      <td>NaN</td>\n",
       "      <td>NaN</td>\n",
       "    </tr>\n",
       "    <tr>\n",
       "      <th>4</th>\n",
       "      <td>Hiking</td>\n",
       "      <td>2019</td>\n",
       "      <td>9</td>\n",
       "      <td>NaN</td>\n",
       "      <td>NaN</td>\n",
       "      <td>NaN</td>\n",
       "    </tr>\n",
       "    <tr>\n",
       "      <th>...</th>\n",
       "      <td>...</td>\n",
       "      <td>...</td>\n",
       "      <td>...</td>\n",
       "      <td>...</td>\n",
       "      <td>...</td>\n",
       "      <td>...</td>\n",
       "    </tr>\n",
       "    <tr>\n",
       "      <th>73</th>\n",
       "      <td>Tacos</td>\n",
       "      <td>2019</td>\n",
       "      <td>12</td>\n",
       "      <td>NaN</td>\n",
       "      <td>NaN</td>\n",
       "      <td>NaN</td>\n",
       "    </tr>\n",
       "    <tr>\n",
       "      <th>74</th>\n",
       "      <td>Skiing</td>\n",
       "      <td>2019</td>\n",
       "      <td>3</td>\n",
       "      <td>NaN</td>\n",
       "      <td>NaN</td>\n",
       "      <td>NaN</td>\n",
       "    </tr>\n",
       "    <tr>\n",
       "      <th>75</th>\n",
       "      <td>Camping</td>\n",
       "      <td>2019</td>\n",
       "      <td>8</td>\n",
       "      <td>NaN</td>\n",
       "      <td>NaN</td>\n",
       "      <td>NaN</td>\n",
       "    </tr>\n",
       "    <tr>\n",
       "      <th>76</th>\n",
       "      <td>Skiing</td>\n",
       "      <td>2019</td>\n",
       "      <td>5</td>\n",
       "      <td>NaN</td>\n",
       "      <td>NaN</td>\n",
       "      <td>NaN</td>\n",
       "    </tr>\n",
       "    <tr>\n",
       "      <th>77</th>\n",
       "      <td>Ice cream</td>\n",
       "      <td>2019</td>\n",
       "      <td>4</td>\n",
       "      <td>NaN</td>\n",
       "      <td>NaN</td>\n",
       "      <td>NaN</td>\n",
       "    </tr>\n",
       "  </tbody>\n",
       "</table>\n",
       "<p>78 rows × 6 columns</p>\n",
       "</div>"
      ],
      "text/plain": [
       "      subject  year  month  chirpCount  averageSentiment  chirps\n",
       "0   Ice cream  2019      6         NaN               NaN     NaN\n",
       "1       Tacos  2020      3         NaN               NaN     NaN\n",
       "2      Hiking  2020      2         NaN               NaN     NaN\n",
       "3      Skiing  2019      4         NaN               NaN     NaN\n",
       "4      Hiking  2019      9         NaN               NaN     NaN\n",
       "..        ...   ...    ...         ...               ...     ...\n",
       "73      Tacos  2019     12         NaN               NaN     NaN\n",
       "74     Skiing  2019      3         NaN               NaN     NaN\n",
       "75    Camping  2019      8         NaN               NaN     NaN\n",
       "76     Skiing  2019      5         NaN               NaN     NaN\n",
       "77  Ice cream  2019      4         NaN               NaN     NaN\n",
       "\n",
       "[78 rows x 6 columns]"
      ]
     },
     "execution_count": 490,
     "metadata": {},
     "output_type": "execute_result"
    }
   ],
   "source": [
    "data"
   ]
  },
  {
   "cell_type": "code",
   "execution_count": null,
   "metadata": {},
   "outputs": [],
   "source": []
  },
  {
   "cell_type": "markdown",
   "metadata": {},
   "source": [
    "### and then lets also make a chirps repository of all chirp data"
   ]
  },
  {
   "cell_type": "code",
   "execution_count": 491,
   "metadata": {},
   "outputs": [],
   "source": [
    "#chirps_df = pd.json_normalize(data, record_path='chirps', meta=[])"
   ]
  },
  {
   "cell_type": "markdown",
   "metadata": {},
   "source": [
    "### NOT IN USE"
   ]
  },
  {
   "cell_type": "code",
   "execution_count": 492,
   "metadata": {},
   "outputs": [],
   "source": [
    "\n",
    "# Lets insert our mongoDB aggregation data into a pandas Dataframe called 'monthlyHatesData'.\n",
    "# Pandas dataframe makes it easier to graph\n",
    "monthlyHatesData = pd.DataFrame(list(data))\n",
    "\n",
    "#pandas_df.head() shows us what the data looks like in the pandas dataframe\n",
    "#monthlyHatesData.head()\n"
   ]
  },
  {
   "cell_type": "markdown",
   "metadata": {},
   "source": [
    "### NOT IN USE"
   ]
  },
  {
   "cell_type": "markdown",
   "metadata": {},
   "source": [
    "### Once its in pandas we can graph it just like we did for Assignment 4: Jupyter Charts"
   ]
  },
  {
   "cell_type": "code",
   "execution_count": 493,
   "metadata": {},
   "outputs": [],
   "source": [
    "# sns.scatterplot(\n",
    "#     data=monthlyHatesData,  \n",
    "#                #X-axis: month\n",
    "#     y='averageSentiment'     #Y-axis: aggregate of all icecream hates in that month\n",
    "#     )\n",
    "# plt.title('Who hates icecream?', size= 24)      #Title\n",
    "# plt.xlabel('Month', size= 18)                   #X-Label\n",
    "# #plt.ylabel('Hates per Month',size= 18)          #Y-Label\n",
    "# #plt.ylim((0,230))                               #Force y-lim to go 0:230\n",
    "# plt.xticks(fontsize = 15)                       #X-tick size\n",
    "# #plt.yticks(fontsize = 15)                       #Y-tick size\n",
    "# plt.show()"
   ]
  },
  {
   "cell_type": "markdown",
   "metadata": {},
   "source": [
    "### NOT IN USE\n"
   ]
  },
  {
   "cell_type": "code",
   "execution_count": 494,
   "metadata": {},
   "outputs": [
    {
     "data": {
      "text/html": [
       "<div>\n",
       "<style scoped>\n",
       "    .dataframe tbody tr th:only-of-type {\n",
       "        vertical-align: middle;\n",
       "    }\n",
       "\n",
       "    .dataframe tbody tr th {\n",
       "        vertical-align: top;\n",
       "    }\n",
       "\n",
       "    .dataframe thead th {\n",
       "        text-align: right;\n",
       "    }\n",
       "</style>\n",
       "<table border=\"1\" class=\"dataframe\">\n",
       "  <thead>\n",
       "    <tr style=\"text-align: right;\">\n",
       "      <th></th>\n",
       "      <th>subject</th>\n",
       "      <th>year</th>\n",
       "      <th>month</th>\n",
       "      <th>chirpCount</th>\n",
       "      <th>averageSentiment</th>\n",
       "      <th>chirps</th>\n",
       "    </tr>\n",
       "  </thead>\n",
       "  <tbody>\n",
       "    <tr>\n",
       "      <th>0</th>\n",
       "      <td>Ice cream</td>\n",
       "      <td>2019</td>\n",
       "      <td>6</td>\n",
       "      <td>NaN</td>\n",
       "      <td>NaN</td>\n",
       "      <td>NaN</td>\n",
       "    </tr>\n",
       "    <tr>\n",
       "      <th>1</th>\n",
       "      <td>Tacos</td>\n",
       "      <td>2020</td>\n",
       "      <td>3</td>\n",
       "      <td>NaN</td>\n",
       "      <td>NaN</td>\n",
       "      <td>NaN</td>\n",
       "    </tr>\n",
       "    <tr>\n",
       "      <th>2</th>\n",
       "      <td>Hiking</td>\n",
       "      <td>2020</td>\n",
       "      <td>2</td>\n",
       "      <td>NaN</td>\n",
       "      <td>NaN</td>\n",
       "      <td>NaN</td>\n",
       "    </tr>\n",
       "    <tr>\n",
       "      <th>3</th>\n",
       "      <td>Skiing</td>\n",
       "      <td>2019</td>\n",
       "      <td>4</td>\n",
       "      <td>NaN</td>\n",
       "      <td>NaN</td>\n",
       "      <td>NaN</td>\n",
       "    </tr>\n",
       "    <tr>\n",
       "      <th>4</th>\n",
       "      <td>Hiking</td>\n",
       "      <td>2019</td>\n",
       "      <td>9</td>\n",
       "      <td>NaN</td>\n",
       "      <td>NaN</td>\n",
       "      <td>NaN</td>\n",
       "    </tr>\n",
       "    <tr>\n",
       "      <th>...</th>\n",
       "      <td>...</td>\n",
       "      <td>...</td>\n",
       "      <td>...</td>\n",
       "      <td>...</td>\n",
       "      <td>...</td>\n",
       "      <td>...</td>\n",
       "    </tr>\n",
       "    <tr>\n",
       "      <th>73</th>\n",
       "      <td>Tacos</td>\n",
       "      <td>2019</td>\n",
       "      <td>12</td>\n",
       "      <td>NaN</td>\n",
       "      <td>NaN</td>\n",
       "      <td>NaN</td>\n",
       "    </tr>\n",
       "    <tr>\n",
       "      <th>74</th>\n",
       "      <td>Skiing</td>\n",
       "      <td>2019</td>\n",
       "      <td>3</td>\n",
       "      <td>NaN</td>\n",
       "      <td>NaN</td>\n",
       "      <td>NaN</td>\n",
       "    </tr>\n",
       "    <tr>\n",
       "      <th>75</th>\n",
       "      <td>Camping</td>\n",
       "      <td>2019</td>\n",
       "      <td>8</td>\n",
       "      <td>NaN</td>\n",
       "      <td>NaN</td>\n",
       "      <td>NaN</td>\n",
       "    </tr>\n",
       "    <tr>\n",
       "      <th>76</th>\n",
       "      <td>Skiing</td>\n",
       "      <td>2019</td>\n",
       "      <td>5</td>\n",
       "      <td>NaN</td>\n",
       "      <td>NaN</td>\n",
       "      <td>NaN</td>\n",
       "    </tr>\n",
       "    <tr>\n",
       "      <th>77</th>\n",
       "      <td>Ice cream</td>\n",
       "      <td>2019</td>\n",
       "      <td>4</td>\n",
       "      <td>NaN</td>\n",
       "      <td>NaN</td>\n",
       "      <td>NaN</td>\n",
       "    </tr>\n",
       "  </tbody>\n",
       "</table>\n",
       "<p>78 rows × 6 columns</p>\n",
       "</div>"
      ],
      "text/plain": [
       "      subject  year  month  chirpCount  averageSentiment  chirps\n",
       "0   Ice cream  2019      6         NaN               NaN     NaN\n",
       "1       Tacos  2020      3         NaN               NaN     NaN\n",
       "2      Hiking  2020      2         NaN               NaN     NaN\n",
       "3      Skiing  2019      4         NaN               NaN     NaN\n",
       "4      Hiking  2019      9         NaN               NaN     NaN\n",
       "..        ...   ...    ...         ...               ...     ...\n",
       "73      Tacos  2019     12         NaN               NaN     NaN\n",
       "74     Skiing  2019      3         NaN               NaN     NaN\n",
       "75    Camping  2019      8         NaN               NaN     NaN\n",
       "76     Skiing  2019      5         NaN               NaN     NaN\n",
       "77  Ice cream  2019      4         NaN               NaN     NaN\n",
       "\n",
       "[78 rows x 6 columns]"
      ]
     },
     "execution_count": 494,
     "metadata": {},
     "output_type": "execute_result"
    }
   ],
   "source": [
    "data"
   ]
  },
  {
   "cell_type": "markdown",
   "metadata": {},
   "source": [
    "### .... STARTING UP AGAIN\n",
    "Lets plot in plotly express"
   ]
  },
  {
   "cell_type": "code",
   "execution_count": 495,
   "metadata": {},
   "outputs": [
    {
     "ename": "ValueError",
     "evalue": "Value of 'x' is not the name of a column in 'data_frame'. Expected one of ['subject', 'year', 'month', 'chirpCount', 'averageSentiment', 'chirps'] but received: _id.month",
     "output_type": "error",
     "traceback": [
      "\u001b[1;31m---------------------------------------------------------------------------\u001b[0m",
      "\u001b[1;31mValueError\u001b[0m                                Traceback (most recent call last)",
      "\u001b[1;32mc:\\Users\\jonat\\OneDrive\\Documents\\GitHub\\DA320\\A7_MongoCharts.ipynb Cell 31'\u001b[0m in \u001b[0;36m<module>\u001b[1;34m\u001b[0m\n\u001b[0;32m      <a href='vscode-notebook-cell:/c%3A/Users/jonat/OneDrive/Documents/GitHub/DA320/A7_MongoCharts.ipynb#ch0000022?line=0'>1</a>\u001b[0m \u001b[39m#\u001b[39;00m\n\u001b[0;32m      <a href='vscode-notebook-cell:/c%3A/Users/jonat/OneDrive/Documents/GitHub/DA320/A7_MongoCharts.ipynb#ch0000022?line=1'>2</a>\u001b[0m \u001b[39m#\u001b[39;00m\n\u001b[0;32m      <a href='vscode-notebook-cell:/c%3A/Users/jonat/OneDrive/Documents/GitHub/DA320/A7_MongoCharts.ipynb#ch0000022?line=2'>3</a>\u001b[0m \u001b[39m#   GRAPHING OUR DATA\u001b[39;00m\n\u001b[1;32m   (...)\u001b[0m\n\u001b[0;32m      <a href='vscode-notebook-cell:/c%3A/Users/jonat/OneDrive/Documents/GitHub/DA320/A7_MongoCharts.ipynb#ch0000022?line=7'>8</a>\u001b[0m \u001b[39m#\u001b[39;00m\n\u001b[0;32m      <a href='vscode-notebook-cell:/c%3A/Users/jonat/OneDrive/Documents/GitHub/DA320/A7_MongoCharts.ipynb#ch0000022?line=8'>9</a>\u001b[0m \u001b[39m#  Scatterplot does not feel like the right thing to be graphing here...\u001b[39;00m\n\u001b[1;32m---> <a href='vscode-notebook-cell:/c%3A/Users/jonat/OneDrive/Documents/GitHub/DA320/A7_MongoCharts.ipynb#ch0000022?line=10'>11</a>\u001b[0m fig \u001b[39m=\u001b[39m px\u001b[39m.\u001b[39;49mscatter(data, x\u001b[39m=\u001b[39;49m\u001b[39m'\u001b[39;49m\u001b[39m_id.month\u001b[39;49m\u001b[39m'\u001b[39;49m, y\u001b[39m=\u001b[39;49m\u001b[39m'\u001b[39;49m\u001b[39mchirpCount\u001b[39;49m\u001b[39m'\u001b[39;49m, color\u001b[39m=\u001b[39;49m\u001b[39m'\u001b[39;49m\u001b[39m_id.subject\u001b[39;49m\u001b[39m'\u001b[39;49m, size\u001b[39m=\u001b[39;49m\u001b[39m'\u001b[39;49m\u001b[39maverageSentiment\u001b[39;49m\u001b[39m'\u001b[39;49m)\n\u001b[0;32m     <a href='vscode-notebook-cell:/c%3A/Users/jonat/OneDrive/Documents/GitHub/DA320/A7_MongoCharts.ipynb#ch0000022?line=11'>12</a>\u001b[0m fig\u001b[39m.\u001b[39mshow()\n",
      "File \u001b[1;32m~\\AppData\\Local\\Programs\\Python\\Python310\\lib\\site-packages\\plotly\\express\\_chart_types.py:66\u001b[0m, in \u001b[0;36mscatter\u001b[1;34m(data_frame, x, y, color, symbol, size, hover_name, hover_data, custom_data, text, facet_row, facet_col, facet_col_wrap, facet_row_spacing, facet_col_spacing, error_x, error_x_minus, error_y, error_y_minus, animation_frame, animation_group, category_orders, labels, orientation, color_discrete_sequence, color_discrete_map, color_continuous_scale, range_color, color_continuous_midpoint, symbol_sequence, symbol_map, opacity, size_max, marginal_x, marginal_y, trendline, trendline_options, trendline_color_override, trendline_scope, log_x, log_y, range_x, range_y, render_mode, title, template, width, height)\u001b[0m\n\u001b[0;32m     <a href='file:///~/AppData/Local/Programs/Python/Python310/lib/site-packages/plotly/express/_chart_types.py?line=11'>12</a>\u001b[0m \u001b[39mdef\u001b[39;00m \u001b[39mscatter\u001b[39m(\n\u001b[0;32m     <a href='file:///~/AppData/Local/Programs/Python/Python310/lib/site-packages/plotly/express/_chart_types.py?line=12'>13</a>\u001b[0m     data_frame\u001b[39m=\u001b[39m\u001b[39mNone\u001b[39;00m,\n\u001b[0;32m     <a href='file:///~/AppData/Local/Programs/Python/Python310/lib/site-packages/plotly/express/_chart_types.py?line=13'>14</a>\u001b[0m     x\u001b[39m=\u001b[39m\u001b[39mNone\u001b[39;00m,\n\u001b[1;32m   (...)\u001b[0m\n\u001b[0;32m     <a href='file:///~/AppData/Local/Programs/Python/Python310/lib/site-packages/plotly/express/_chart_types.py?line=59'>60</a>\u001b[0m     height\u001b[39m=\u001b[39m\u001b[39mNone\u001b[39;00m,\n\u001b[0;32m     <a href='file:///~/AppData/Local/Programs/Python/Python310/lib/site-packages/plotly/express/_chart_types.py?line=60'>61</a>\u001b[0m ):\n\u001b[0;32m     <a href='file:///~/AppData/Local/Programs/Python/Python310/lib/site-packages/plotly/express/_chart_types.py?line=61'>62</a>\u001b[0m     \u001b[39m\"\"\"\u001b[39;00m\n\u001b[0;32m     <a href='file:///~/AppData/Local/Programs/Python/Python310/lib/site-packages/plotly/express/_chart_types.py?line=62'>63</a>\u001b[0m \u001b[39m    In a scatter plot, each row of `data_frame` is represented by a symbol\u001b[39;00m\n\u001b[0;32m     <a href='file:///~/AppData/Local/Programs/Python/Python310/lib/site-packages/plotly/express/_chart_types.py?line=63'>64</a>\u001b[0m \u001b[39m    mark in 2D space.\u001b[39;00m\n\u001b[0;32m     <a href='file:///~/AppData/Local/Programs/Python/Python310/lib/site-packages/plotly/express/_chart_types.py?line=64'>65</a>\u001b[0m \u001b[39m    \"\"\"\u001b[39;00m\n\u001b[1;32m---> <a href='file:///~/AppData/Local/Programs/Python/Python310/lib/site-packages/plotly/express/_chart_types.py?line=65'>66</a>\u001b[0m     \u001b[39mreturn\u001b[39;00m make_figure(args\u001b[39m=\u001b[39;49m\u001b[39mlocals\u001b[39;49m(), constructor\u001b[39m=\u001b[39;49mgo\u001b[39m.\u001b[39;49mScatter)\n",
      "File \u001b[1;32m~\\AppData\\Local\\Programs\\Python\\Python310\\lib\\site-packages\\plotly\\express\\_core.py:1945\u001b[0m, in \u001b[0;36mmake_figure\u001b[1;34m(args, constructor, trace_patch, layout_patch)\u001b[0m\n\u001b[0;32m   <a href='file:///~/AppData/Local/Programs/Python/Python310/lib/site-packages/plotly/express/_core.py?line=1941'>1942</a>\u001b[0m layout_patch \u001b[39m=\u001b[39m layout_patch \u001b[39mor\u001b[39;00m {}\n\u001b[0;32m   <a href='file:///~/AppData/Local/Programs/Python/Python310/lib/site-packages/plotly/express/_core.py?line=1942'>1943</a>\u001b[0m apply_default_cascade(args)\n\u001b[1;32m-> <a href='file:///~/AppData/Local/Programs/Python/Python310/lib/site-packages/plotly/express/_core.py?line=1944'>1945</a>\u001b[0m args \u001b[39m=\u001b[39m build_dataframe(args, constructor)\n\u001b[0;32m   <a href='file:///~/AppData/Local/Programs/Python/Python310/lib/site-packages/plotly/express/_core.py?line=1945'>1946</a>\u001b[0m \u001b[39mif\u001b[39;00m constructor \u001b[39min\u001b[39;00m [go\u001b[39m.\u001b[39mTreemap, go\u001b[39m.\u001b[39mSunburst, go\u001b[39m.\u001b[39mIcicle] \u001b[39mand\u001b[39;00m args[\u001b[39m\"\u001b[39m\u001b[39mpath\u001b[39m\u001b[39m\"\u001b[39m] \u001b[39mis\u001b[39;00m \u001b[39mnot\u001b[39;00m \u001b[39mNone\u001b[39;00m:\n\u001b[0;32m   <a href='file:///~/AppData/Local/Programs/Python/Python310/lib/site-packages/plotly/express/_core.py?line=1946'>1947</a>\u001b[0m     args \u001b[39m=\u001b[39m process_dataframe_hierarchy(args)\n",
      "File \u001b[1;32m~\\AppData\\Local\\Programs\\Python\\Python310\\lib\\site-packages\\plotly\\express\\_core.py:1405\u001b[0m, in \u001b[0;36mbuild_dataframe\u001b[1;34m(args, constructor)\u001b[0m\n\u001b[0;32m   <a href='file:///~/AppData/Local/Programs/Python/Python310/lib/site-packages/plotly/express/_core.py?line=1401'>1402</a>\u001b[0m     args[\u001b[39m\"\u001b[39m\u001b[39mcolor\u001b[39m\u001b[39m\"\u001b[39m] \u001b[39m=\u001b[39m \u001b[39mNone\u001b[39;00m\n\u001b[0;32m   <a href='file:///~/AppData/Local/Programs/Python/Python310/lib/site-packages/plotly/express/_core.py?line=1402'>1403</a>\u001b[0m \u001b[39m# now that things have been prepped, we do the systematic rewriting of `args`\u001b[39;00m\n\u001b[1;32m-> <a href='file:///~/AppData/Local/Programs/Python/Python310/lib/site-packages/plotly/express/_core.py?line=1404'>1405</a>\u001b[0m df_output, wide_id_vars \u001b[39m=\u001b[39m process_args_into_dataframe(\n\u001b[0;32m   <a href='file:///~/AppData/Local/Programs/Python/Python310/lib/site-packages/plotly/express/_core.py?line=1405'>1406</a>\u001b[0m     args, wide_mode, var_name, value_name\n\u001b[0;32m   <a href='file:///~/AppData/Local/Programs/Python/Python310/lib/site-packages/plotly/express/_core.py?line=1406'>1407</a>\u001b[0m )\n\u001b[0;32m   <a href='file:///~/AppData/Local/Programs/Python/Python310/lib/site-packages/plotly/express/_core.py?line=1408'>1409</a>\u001b[0m \u001b[39m# now that `df_output` exists and `args` contains only references, we complete\u001b[39;00m\n\u001b[0;32m   <a href='file:///~/AppData/Local/Programs/Python/Python310/lib/site-packages/plotly/express/_core.py?line=1409'>1410</a>\u001b[0m \u001b[39m# the special-case and wide-mode handling by further rewriting args and/or mutating\u001b[39;00m\n\u001b[0;32m   <a href='file:///~/AppData/Local/Programs/Python/Python310/lib/site-packages/plotly/express/_core.py?line=1410'>1411</a>\u001b[0m \u001b[39m# df_output\u001b[39;00m\n\u001b[0;32m   <a href='file:///~/AppData/Local/Programs/Python/Python310/lib/site-packages/plotly/express/_core.py?line=1412'>1413</a>\u001b[0m count_name \u001b[39m=\u001b[39m _escape_col_name(df_output, \u001b[39m\"\u001b[39m\u001b[39mcount\u001b[39m\u001b[39m\"\u001b[39m, [var_name, value_name])\n",
      "File \u001b[1;32m~\\AppData\\Local\\Programs\\Python\\Python310\\lib\\site-packages\\plotly\\express\\_core.py:1207\u001b[0m, in \u001b[0;36mprocess_args_into_dataframe\u001b[1;34m(args, wide_mode, var_name, value_name)\u001b[0m\n\u001b[0;32m   <a href='file:///~/AppData/Local/Programs/Python/Python310/lib/site-packages/plotly/express/_core.py?line=1204'>1205</a>\u001b[0m         \u001b[39mif\u001b[39;00m argument \u001b[39m==\u001b[39m \u001b[39m\"\u001b[39m\u001b[39mindex\u001b[39m\u001b[39m\"\u001b[39m:\n\u001b[0;32m   <a href='file:///~/AppData/Local/Programs/Python/Python310/lib/site-packages/plotly/express/_core.py?line=1205'>1206</a>\u001b[0m             err_msg \u001b[39m+\u001b[39m\u001b[39m=\u001b[39m \u001b[39m\"\u001b[39m\u001b[39m\\n\u001b[39;00m\u001b[39m To use the index, pass it in directly as `df.index`.\u001b[39m\u001b[39m\"\u001b[39m\n\u001b[1;32m-> <a href='file:///~/AppData/Local/Programs/Python/Python310/lib/site-packages/plotly/express/_core.py?line=1206'>1207</a>\u001b[0m         \u001b[39mraise\u001b[39;00m \u001b[39mValueError\u001b[39;00m(err_msg)\n\u001b[0;32m   <a href='file:///~/AppData/Local/Programs/Python/Python310/lib/site-packages/plotly/express/_core.py?line=1207'>1208</a>\u001b[0m \u001b[39melif\u001b[39;00m length \u001b[39mand\u001b[39;00m \u001b[39mlen\u001b[39m(df_input[argument]) \u001b[39m!=\u001b[39m length:\n\u001b[0;32m   <a href='file:///~/AppData/Local/Programs/Python/Python310/lib/site-packages/plotly/express/_core.py?line=1208'>1209</a>\u001b[0m     \u001b[39mraise\u001b[39;00m \u001b[39mValueError\u001b[39;00m(\n\u001b[0;32m   <a href='file:///~/AppData/Local/Programs/Python/Python310/lib/site-packages/plotly/express/_core.py?line=1209'>1210</a>\u001b[0m         \u001b[39m\"\u001b[39m\u001b[39mAll arguments should have the same length. \u001b[39m\u001b[39m\"\u001b[39m\n\u001b[0;32m   <a href='file:///~/AppData/Local/Programs/Python/Python310/lib/site-packages/plotly/express/_core.py?line=1210'>1211</a>\u001b[0m         \u001b[39m\"\u001b[39m\u001b[39mThe length of column argument `df[\u001b[39m\u001b[39m%s\u001b[39;00m\u001b[39m]` is \u001b[39m\u001b[39m%d\u001b[39;00m\u001b[39m, whereas the \u001b[39m\u001b[39m\"\u001b[39m\n\u001b[1;32m   (...)\u001b[0m\n\u001b[0;32m   <a href='file:///~/AppData/Local/Programs/Python/Python310/lib/site-packages/plotly/express/_core.py?line=1217'>1218</a>\u001b[0m         )\n\u001b[0;32m   <a href='file:///~/AppData/Local/Programs/Python/Python310/lib/site-packages/plotly/express/_core.py?line=1218'>1219</a>\u001b[0m     )\n",
      "\u001b[1;31mValueError\u001b[0m: Value of 'x' is not the name of a column in 'data_frame'. Expected one of ['subject', 'year', 'month', 'chirpCount', 'averageSentiment', 'chirps'] but received: _id.month"
     ]
    }
   ],
   "source": [
    "#\n",
    "#\n",
    "#   GRAPHING OUR DATA\n",
    "#\n",
    "#\n",
    "#   Data\n",
    "#      DataFrame = 'data'\n",
    "#\n",
    "#  Scatterplot does not feel like the right thing to be graphing here...\n",
    "\n",
    "fig = px.scatter(data, x='_id.month', y='chirpCount', color='_id.subject', size='averageSentiment')\n",
    "fig.show()"
   ]
  },
  {
   "cell_type": "code",
   "execution_count": null,
   "metadata": {},
   "outputs": [],
   "source": [
    "#   Lets try a barplot\n",
    "#\n",
    "#   GRAPHING OUR DATA\n",
    "#\n",
    "#\n",
    "#   Data\n",
    "#      DataFrame = 'data'\n",
    "#\n",
    "#\n",
    "\n",
    "fig = px.bar(data, x='_id.month', y='chirpCount', color='_id.subject')\n",
    "fig.show()"
   ]
  },
  {
   "cell_type": "code",
   "execution_count": null,
   "metadata": {},
   "outputs": [],
   "source": [
    "#   Lets try transposing the data....\n",
    "#\n",
    "#   GRAPHING OUR DATA\n",
    "#\n",
    "#\n",
    "#   Data\n",
    "#      DataFrame = 'data'\n",
    "#\n",
    "#\n",
    "\n",
    "fig = px.bar(data, x=data.index, y='chirpCount', color='_id.subject')\n",
    "fig.show()"
   ]
  },
  {
   "cell_type": "code",
   "execution_count": null,
   "metadata": {},
   "outputs": [],
   "source": [
    "fig = px.bar(data, x='_id.month', y='chirpCount', facet_col='_id.subject')\n",
    "fig.show()"
   ]
  },
  {
   "cell_type": "markdown",
   "metadata": {},
   "source": [
    "### POTENTIAL FINAL GRAPH\n",
    "Overall: Canadian's sentiment towards things "
   ]
  },
  {
   "cell_type": "code",
   "execution_count": null,
   "metadata": {},
   "outputs": [],
   "source": [
    "fig = px.scatter(data, x='_id.month', y='averageSentiment', trendline='ols', title='Canadians overall sentiment towards things they chose to Chirp about')\n",
    "fig.update_traces(\n",
    "    line=dict(width=3, color='gray')\n",
    ")\n",
    "fig.show()"
   ]
  },
  {
   "cell_type": "markdown",
   "metadata": {},
   "source": [
    "### potential final graph\n",
    "only hiking, camping and icecream"
   ]
  },
  {
   "cell_type": "code",
   "execution_count": null,
   "metadata": {},
   "outputs": [],
   "source": [
    "(px.scatter(data, x=\"_id.month\", y=\"averageSentiment\", color=\"_id.subject\",\n",
    "            facet_col=\"_id.year\", trendline=\"ols\",\n",
    "            title=\"Things canadians chirp about and how they feel about them\")\n",
    " .update_layout(title_font_size=24)\n",
    " .update_xaxes(showgrid=False)\n",
    " .update_traces(\n",
    "     line=dict(dash=\"dot\", width=4),\n",
    "     selector=dict(type=\"scatter\", mode=\"lines\"))\n",
    ").show()"
   ]
  },
  {
   "cell_type": "markdown",
   "metadata": {},
   "source": [
    "### Filter my returned values (into a new dataframe) only of the requested subjects for this assignment"
   ]
  },
  {
   "cell_type": "code",
   "execution_count": null,
   "metadata": {},
   "outputs": [],
   "source": [
    "subjects = ['ice cream', 'hiking', 'camping']\n",
    "filtered_df = data[data._id.subject.isin(subjects)]\n",
    "filtered_df"
   ]
  }
 ],
 "metadata": {
  "interpreter": {
   "hash": "831e9d60628f49ef695c1224b896fa86c6f72dc359ca6b6e6521097980c4e285"
  },
  "kernelspec": {
   "display_name": "Python 3.10.1 64-bit",
   "language": "python",
   "name": "python3"
  },
  "language_info": {
   "codemirror_mode": {
    "name": "ipython",
    "version": 3
   },
   "file_extension": ".py",
   "mimetype": "text/x-python",
   "name": "python",
   "nbconvert_exporter": "python",
   "pygments_lexer": "ipython3",
   "version": "3.10.1"
  },
  "orig_nbformat": 4
 },
 "nbformat": 4,
 "nbformat_minor": 2
}
